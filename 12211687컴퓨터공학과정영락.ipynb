{
  "nbformat": 4,
  "nbformat_minor": 0,
  "metadata": {
    "colab": {
      "provenance": [],
      "authorship_tag": "ABX9TyPd3D+qkCk7jRkbiDYmHjfy",
      "include_colab_link": true
    },
    "kernelspec": {
      "name": "python3",
      "display_name": "Python 3"
    },
    "language_info": {
      "name": "python"
    }
  },
  "cells": [
    {
      "cell_type": "markdown",
      "metadata": {
        "id": "view-in-github",
        "colab_type": "text"
      },
      "source": [
        "<a href=\"https://colab.research.google.com/github/youngrakii/Data/blob/main/12211687%EC%BB%B4%ED%93%A8%ED%84%B0%EA%B3%B5%ED%95%99%EA%B3%BC%EC%A0%95%EC%98%81%EB%9D%BD.ipynb\" target=\"_parent\"><img src=\"https://colab.research.google.com/assets/colab-badge.svg\" alt=\"Open In Colab\"/></a>"
      ]
    },
    {
      "cell_type": "markdown",
      "source": [
        "#보고서 작성하기 (12211687 정영락)"
      ],
      "metadata": {
        "id": "NCOiyfETGJQ1"
      }
    },
    {
      "cell_type": "code",
      "source": [
        "#(실습) [10,20,30]1차원 리스트 만들기\n",
        "a=[10,20,30]\n",
        "print(a)"
      ],
      "metadata": {
        "colab": {
          "base_uri": "https://localhost:8080/"
        },
        "id": "gLaoaJR2GQmX",
        "outputId": "af4ff86d-ffa5-47f2-c962-e0559f338976"
      },
      "execution_count": null,
      "outputs": [
        {
          "output_type": "stream",
          "name": "stdout",
          "text": [
            "[10, 20, 30]\n"
          ]
        }
      ]
    },
    {
      "cell_type": "code",
      "source": [
        "#(실습) 빈 리스트 만들기\n",
        "b=[]\n",
        "print(b)"
      ],
      "metadata": {
        "colab": {
          "base_uri": "https://localhost:8080/"
        },
        "id": "7UYyz-2hGajw",
        "outputId": "3be7a01e-ec50-481c-8a84-5a725f792ac0"
      },
      "execution_count": null,
      "outputs": [
        {
          "output_type": "stream",
          "name": "stdout",
          "text": [
            "[]\n"
          ]
        }
      ]
    },
    {
      "cell_type": "code",
      "source": [
        "#(실습) list(), range() 함수를 이용해 [1,2,3,4,5,6,7,8,9] 가 저장된 1차원 리스트 만들기\n",
        "c = list(range(1,10))\n",
        "print (c)"
      ],
      "metadata": {
        "colab": {
          "base_uri": "https://localhost:8080/"
        },
        "id": "KJbvkriTGgEY",
        "outputId": "0fcedc5e-970f-418a-8da0-c92a185cd861"
      },
      "execution_count": null,
      "outputs": [
        {
          "output_type": "stream",
          "name": "stdout",
          "text": [
            "[1, 2, 3, 4, 5, 6, 7, 8, 9]\n"
          ]
        }
      ]
    },
    {
      "cell_type": "code",
      "source": [
        "# a 리스트 만들기\n",
        "a=[[10,20,30],[40,50,60],[90,100,110]]\n",
        "\n",
        "# a 리스트 전체 출력하기\n",
        "print (a)\n",
        "\n",
        "# a 리스트의 0번 인덱스 행 출력하기\n",
        "print(a[0])\n",
        "\n",
        "# a 리스트의 2번 인덱스 행, 1번 인덱스 열에 있는 값 출력하기\n",
        "print(a[2][1])"
      ],
      "metadata": {
        "colab": {
          "base_uri": "https://localhost:8080/"
        },
        "id": "59w4qP3sGsaD",
        "outputId": "3475a970-cde8-4fba-e6ab-1762f4a648ed"
      },
      "execution_count": null,
      "outputs": [
        {
          "output_type": "stream",
          "name": "stdout",
          "text": [
            "[[10, 20, 30], [40, 50, 60], [90, 100, 110]]\n",
            "[10, 20, 30]\n",
            "100\n"
          ]
        }
      ]
    },
    {
      "cell_type": "code",
      "source": [
        "a=[4,11,53,30]\n",
        "#(실습) a 리스트에 저장된 데이터의 갯수를 출력함.\n",
        "len(a)"
      ],
      "metadata": {
        "colab": {
          "base_uri": "https://localhost:8080/"
        },
        "id": "noOXTPZeHIa4",
        "outputId": "0f0a892a-4d5e-479b-cc10-b009be3edff8"
      },
      "execution_count": null,
      "outputs": [
        {
          "output_type": "execute_result",
          "data": {
            "text/plain": [
              "4"
            ]
          },
          "metadata": {},
          "execution_count": 8
        }
      ]
    },
    {
      "cell_type": "code",
      "source": [
        "#(실습) a 리스트의 마지막에 9를 추가해 출력함.\n",
        "a.append(9)\n",
        "print(a)"
      ],
      "metadata": {
        "colab": {
          "base_uri": "https://localhost:8080/"
        },
        "id": "TXt9u_qXHSoK",
        "outputId": "d2b64c9d-e503-43f7-adbb-7b16c33a23d6"
      },
      "execution_count": null,
      "outputs": [
        {
          "output_type": "stream",
          "name": "stdout",
          "text": [
            "[4, 11, 53, 30, 9]\n"
          ]
        }
      ]
    },
    {
      "cell_type": "code",
      "source": [
        "#(실습) a 리스트의 2번 인덱스에 10을 삽입하고 출력함.\n",
        "a.insert(2,10)\n",
        "print (a)"
      ],
      "metadata": {
        "colab": {
          "base_uri": "https://localhost:8080/"
        },
        "id": "nCFJNDgQHdSU",
        "outputId": "5558fff1-2a87-4223-8d49-628f5dc5b580"
      },
      "execution_count": null,
      "outputs": [
        {
          "output_type": "stream",
          "name": "stdout",
          "text": [
            "[4, 11, 10, 53, 30, 9]\n"
          ]
        }
      ]
    },
    {
      "cell_type": "code",
      "source": [
        "# (실습) a 리스트에 저장된 9를 삭제하고 출력함.\n",
        "a.remove(9)\n",
        "print(a)"
      ],
      "metadata": {
        "colab": {
          "base_uri": "https://localhost:8080/"
        },
        "id": "xdx5CQERHlwn",
        "outputId": "fe8d5528-f845-466e-ffd6-5c3020d9490a"
      },
      "execution_count": null,
      "outputs": [
        {
          "output_type": "stream",
          "name": "stdout",
          "text": [
            "[4, 11, 10, 53, 30]\n"
          ]
        }
      ]
    },
    {
      "cell_type": "code",
      "source": [
        "# (실습) a 리스트를 오름차순으로 정렬하고 출력함.\n",
        "a.sort()\n",
        "print(a)"
      ],
      "metadata": {
        "colab": {
          "base_uri": "https://localhost:8080/"
        },
        "id": "sVBdlZ50HyxK",
        "outputId": "e665f4ae-2abd-4011-883e-d83ac6dd3d54"
      },
      "execution_count": null,
      "outputs": [
        {
          "output_type": "stream",
          "name": "stdout",
          "text": [
            "[4, 10, 11, 30, 53]\n"
          ]
        }
      ]
    },
    {
      "cell_type": "code",
      "source": [
        "# (실습) a 리스트에 있는 값을 역순으로 저장해 출력함.\n",
        "a.reverse()\n",
        "print(a)"
      ],
      "metadata": {
        "colab": {
          "base_uri": "https://localhost:8080/"
        },
        "id": "yHOA12hHH86_",
        "outputId": "f7958109-b297-4f5b-c35a-828f550128ad"
      },
      "execution_count": null,
      "outputs": [
        {
          "output_type": "stream",
          "name": "stdout",
          "text": [
            "[53, 30, 11, 10, 4]\n"
          ]
        }
      ]
    },
    {
      "cell_type": "markdown",
      "source": [
        "######요즘 영락이의 주된 관심거리는 카페 창업에 있다. 커피 점문점 사이에서 경쟁력을 갖추려면 어떻게 해야할지 걱정이 많았다. 영락이는 카페 창업을 하는 사람들을 위한 체크리스트가 생각났다.\n",
        "  - 체크리스트\n",
        "\n",
        "> 비슷한 업종의 유명한 맛집을 직접 방문 했는가?\n",
        "\n",
        "> 우리 가게만의 시그너처 메뉴를 연구했는가?\n",
        "\n",
        "> 카페를 열 장소에서 오가는 사람들의 유동 패턴과 특징을 충분히 파악 했는가?\n",
        "\n",
        "> 메뉴의 단가를 결정하기 위해 합리적인 원가 산출법을 적용하는가?"
      ],
      "metadata": {
        "id": "nm6nHZVEMgiZ"
      }
    },
    {
      "cell_type": "code",
      "source": [
        "# 철수가 조사한 일주일 간 유동인구 데이터 (월~일)을 리스트에 저장하기\n",
        "#데이터 : 232, 258, 232, 221, 270, 81, 47\n",
        "\n",
        "# (실습) 리스트 만들기\n",
        "a = [232, 258, 232, 221, 270, 81, 47]\n",
        "print (\"A = \", a)"
      ],
      "metadata": {
        "colab": {
          "base_uri": "https://localhost:8080/"
        },
        "id": "CbudeNH7MbW9",
        "outputId": "3d825b76-6d4b-4a35-8f2d-7959a139c52c"
      },
      "execution_count": null,
      "outputs": [
        {
          "output_type": "stream",
          "name": "stdout",
          "text": [
            "A =  [232, 258, 232, 221, 270, 81, 47]\n"
          ]
        }
      ]
    },
    {
      "cell_type": "code",
      "source": [
        "# [Step 2] 유동 인구 수 데이터의 총합과 평균 구하기\n",
        "# (실습) n : a 리스트 원소 갯수 구하기\n",
        "# A = [232, 258, 232, 221, 270, 81, 47]\n",
        "n=len(a)\n",
        "print(n)"
      ],
      "metadata": {
        "colab": {
          "base_uri": "https://localhost:8080/"
        },
        "id": "_u7BrUJtNHPq",
        "outputId": "02e5c974-480d-4252-b0b1-e4609b357a97"
      },
      "execution_count": null,
      "outputs": [
        {
          "output_type": "stream",
          "name": "stdout",
          "text": [
            "7\n"
          ]
        }
      ]
    },
    {
      "cell_type": "code",
      "source": [
        "# my_sum : a 리스트 합 구하기\n",
        "# 합을 구하는 변수 선언하기 (0으로 초기화)\n",
        "my_sum = 0\n",
        "\n",
        "#(실습) a 리스트 합 구하기\n",
        "for i in range(0,n):\n",
        "  my_sum+=a[i]\n",
        "\n",
        "# 합 출력하기\n",
        "print(\"Total sum :\", my_sum)"
      ],
      "metadata": {
        "colab": {
          "base_uri": "https://localhost:8080/"
        },
        "id": "XomM_RblNZi5",
        "outputId": "ecc47faf-9ec9-4cf0-d774-d4b36ebfdaa5"
      },
      "execution_count": null,
      "outputs": [
        {
          "output_type": "stream",
          "name": "stdout",
          "text": [
            "Total sum : 1341\n"
          ]
        }
      ]
    },
    {
      "cell_type": "code",
      "source": [
        "# my_avg : a 리스트 평균 구하기\n",
        "\n",
        "# 평균을 구하는 변수 선언하기 (0으로 초기화)\n",
        "my_avg = 0\n",
        "\n",
        "# (실습) a 리스트 평균 구하기\n",
        "my_avg = my_sum/n\n",
        "\n",
        "# 평균 출력하기\n",
        "print(\"Total average \", my_avg)"
      ],
      "metadata": {
        "colab": {
          "base_uri": "https://localhost:8080/"
        },
        "id": "HzdqmQmQNxW4",
        "outputId": "b78d2cc6-cb3c-4d31-c394-4d45bb244709"
      },
      "execution_count": null,
      "outputs": [
        {
          "output_type": "stream",
          "name": "stdout",
          "text": [
            "Total average  191.57142857142858\n"
          ]
        }
      ]
    },
    {
      "cell_type": "code",
      "source": [
        "#[Step 3] 주어진 수열 데이터를 꺾은선 그래프로 표현하기\n",
        "#matplotlib : 그래프 시각화 하기\n",
        "#(실습) matplotlib.pyplot 불러오기\n",
        "\n",
        "import matplotlib.pyplot as plt\n",
        "\n",
        "# x 축 데이터 저장하기\n",
        "x_data = ['MOn', 'TUE', 'WED', 'THR', 'FRI', 'SAT', 'SUN']\n",
        "\n",
        "# 유동인구 제목 : Floating Population Data(1week)\n",
        "plt.title(\"Floating Population Data(1week)\", fontsize=18)\n",
        "\n",
        "# x축(요일), y축(유동인구수)\n",
        "plt.xlabel(\"Day of the week\", fontsize=12)\n",
        "plt.ylabel(\"Floating Population\", fontsize=12)\n",
        "\n",
        "# 산점도 그리기 (x축 : 요일, y축 ; 유동인구수)\n",
        "plt.scatter(x_data,a)\n",
        "\n",
        "# 라인 그래프 그리기  (x축 : 요일, y축 ; 유동인구수)\n",
        "\n",
        "plt.plot(x_data,a)\n",
        "# 그래프 그리기\n",
        "# plt.plot(x_data, a, 'bo-')\n",
        "\n",
        "# 그래프 보여주기\n",
        "plt.show()"
      ],
      "metadata": {
        "colab": {
          "base_uri": "https://localhost:8080/",
          "height": 481
        },
        "id": "A658CAOPOTc7",
        "outputId": "104f9358-ffc5-4844-d38f-a161190b81ed"
      },
      "execution_count": null,
      "outputs": [
        {
          "output_type": "display_data",
          "data": {
            "text/plain": [
              "<Figure size 640x480 with 1 Axes>"
            ],
            "image/png": "[encoded data removed]"
          },
          "metadata": {}
        }
      ]
    },
    {
      "cell_type": "code",
      "source": [
        "#[Step 4] 주중 유동 인구수의 합과 평균을 구해 그래프와 함께 출력하기\n",
        "'''\n",
        "weekday_size : 주중(5)\n",
        "weekday_sum : 주중 합 구하는 변수\n",
        "weekday_avg : 주중 평균 구하는 변수\n",
        "'''\n",
        "weekday_size = 5\n",
        "weekday_sum = 0\n",
        "weekday_avg = 0\n",
        "\n",
        "# (실습) 주중 합 구하기(weekday_sum)\n",
        "for i in range(0, weekday_size):\n",
        " weekday_sum+=a[i]\n",
        "\n",
        "# (실습) 주중 평균 구하기(weekday_avg)\n",
        "weekday_avg = weekday_sum/weekday_size\n",
        "\n",
        "# 주중 데이터, 주중 합, 주중 평균 구하기\n",
        "print(\"weekday Data : \",a[0:5])\n",
        "print(\"weekday Sum :\", weekday_sum)\n",
        "print(\"weekday Average : \", weekday_avg)"
      ],
      "metadata": {
        "colab": {
          "base_uri": "https://localhost:8080/"
        },
        "id": "5K3XfN6SOfsA",
        "outputId": "921ec5a5-9ddb-403d-d16f-0d865affeef0"
      },
      "execution_count": null,
      "outputs": [
        {
          "output_type": "stream",
          "name": "stdout",
          "text": [
            "weekday Data :  [232, 258, 232, 221, 270]\n",
            "weekday Sum : 1213\n",
            "weekday Average :  242.6\n"
          ]
        }
      ]
    },
    {
      "cell_type": "code",
      "source": [
        "# 그래프 그리기\n",
        "# (실습) matplotlib.pyplot 불러오기\n",
        "\n",
        "import matplotlib.pyplot as plt\n",
        "\n",
        "# 유동인구 제목 : Floating Population Data(1week)\n",
        "plt.title(\"Floating Population Data(1week)\", fontsize=16)\n",
        "\n",
        "# x축(요일), y축(유동인구수)\n",
        "plt.xlabel(\"Day of the week\", fontsize=12)\n",
        "plt.ylabel(\"Floating Population\", fontsize=12)\n",
        "\n",
        "# (실습) 일주일 라인 그래프 그리기\n",
        "plt.plot(x_data,a)\n",
        "\n",
        "# (실습) 주중(월~금) 산점도 그래프 그리기 ('red', 50)\n",
        "plt.scatter(x_data[0:weekday_size],a[0:weekday_size],c='red',s=50)\n",
        "\n",
        "# 그래프 보여주기\n",
        "plt.show()"
      ],
      "metadata": {
        "id": "oAe-39WqOlb0",
        "outputId": "d7c4c01b-748b-4155-fc36-b836bd1ab5cf",
        "colab": {
          "base_uri": "https://localhost:8080/",
          "height": 478
        }
      },
      "execution_count": null,
      "outputs": [
        {
          "output_type": "display_data",
          "data": {
            "text/plain": [
              "<Figure size 640x480 with 1 Axes>"
            ],
            "image/png": "[encoded data removed]"
          },
          "metadata": {}
        }
      ]
    }
  ]
}